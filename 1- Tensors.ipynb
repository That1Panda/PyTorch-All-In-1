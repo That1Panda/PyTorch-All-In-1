{
 "nbformat": 4,
 "nbformat_minor": 0,
 "metadata": {
  "colab": {
   "provenance": [],
   "gpuType": "T4"
  },
  "kernelspec": {
   "name": "python3",
   "display_name": "Python 3"
  },
  "language_info": {
   "name": "python"
  },
  "accelerator": "GPU"
 },
 "cells": [
  {
   "cell_type": "markdown",
   "source": [
    "# Creating Tensors"
   ],
   "metadata": {
    "id": "7QYPHxFyAWv9"
   }
  },
  {
   "cell_type": "code",
   "execution_count": 1,
   "metadata": {
    "colab": {
     "base_uri": "https://localhost:8080/"
    },
    "id": "VbTCDJHnukFz",
    "outputId": "fc9de3d1-0c48-4b1e-9d1a-32e31f148e1b"
   },
   "outputs": [
    {
     "output_type": "stream",
     "name": "stdout",
     "text": [
      "tensor([[ 8, 10, 12],\n",
      "        [14, 16, 18]])\n",
      "torch.Size([2, 3])\n"
     ]
    }
   ],
   "source": [
    "import torch\n",
    "\n",
    "x = torch.tensor([[1, 2, 3], [4, 5, 6]])\n",
    "y = torch.tensor([[7, 8, 9], [10, 11, 12]])\n",
    "z = x + y\n",
    "\n",
    "print(z)\n",
    "print(z.size())"
   ]
  },
  {
   "cell_type": "code",
   "source": [
    "device = \"cuda\" if torch.cuda.is_available() else \"cpu\"\n",
    "print(device)\n",
    "\n",
    "x = torch.tensor([[1, 2, 3], [4, 5, 6]], device=device)\n",
    "y = torch.tensor([[7, 8, 9], [10, 11, 12]], device=device)\n",
    "z = x + y\n",
    "\n",
    "print(z)\n",
    "print(z.shape)\n",
    "print(z.device)"
   ],
   "metadata": {
    "colab": {
     "base_uri": "https://localhost:8080/"
    },
    "id": "f38-ERa1upn2",
    "outputId": "426dfd88-42fa-404d-c5a0-6eec487b204a"
   },
   "execution_count": 2,
   "outputs": [
    {
     "output_type": "stream",
     "name": "stdout",
     "text": [
      "cuda\n",
      "tensor([[ 8, 10, 12],\n",
      "        [14, 16, 18]], device='cuda:0')\n",
      "torch.Size([2, 3])\n",
      "cuda:0\n"
     ]
    }
   ]
  },
  {
   "cell_type": "code",
   "source": [
    "import numpy as np\n",
    "\n",
    "# Created tensors from preexisting arrays\n",
    "w = torch.tensor([1, 2, 3])\n",
    "w = torch.tensor((1, 2, 3))\n",
    "w = torch.tensor(np.array([1, 2, 3]))\n",
    "\n",
    "# Initalized by size\n",
    "w = torch.empty(100, 200)\n",
    "w = torch.zeros(100, 200)\n",
    "w = torch.ones(100, 200)"
   ],
   "metadata": {
    "id": "USS-V7lOu6q9"
   },
   "execution_count": 3,
   "outputs": []
  },
  {
   "cell_type": "code",
   "source": [
    "# Initialize by size with random values\n",
    "w = torch.rand(100, 200)\n",
    "w = torch.randn(100, 200)\n",
    "w = torch.randint(5, 12, (100, 200))\n",
    "\n",
    "# Initialized by certain datatype or device\n",
    "w = torch.empty((100, 200), dtype=torch.float64, device=device)\n",
    "\n",
    "# Initialized to have same size, datatpe and device as a tensor\n",
    "x = torch.empty_like(w)\n",
    "x = torch.zeros_like(w)\n",
    "x = torch.ones_like(w)"
   ],
   "metadata": {
    "id": "gaVax60sv8pf"
   },
   "execution_count": 4,
   "outputs": []
  },
  {
   "cell_type": "code",
   "source": [
    "w = torch.arange(1, 10, 1)\n",
    "print(w)\n",
    "w = torch.linspace(1, 10, 10)\n",
    "print(w)\n",
    "w = torch.logspace(1, 10, 10)\n",
    "print(w)\n",
    "w = torch.eye(3, 2)\n",
    "print(w)"
   ],
   "metadata": {
    "colab": {
     "base_uri": "https://localhost:8080/"
    },
    "id": "PkfopsKyy2UG",
    "outputId": "333381ce-f5dd-471a-ac27-1dfa8e797da9"
   },
   "execution_count": 5,
   "outputs": [
    {
     "output_type": "stream",
     "name": "stdout",
     "text": [
      "tensor([1, 2, 3, 4, 5, 6, 7, 8, 9])\n",
      "tensor([ 1.,  2.,  3.,  4.,  5.,  6.,  7.,  8.,  9., 10.])\n",
      "tensor([1.0000e+01, 1.0000e+02, 1.0000e+03, 1.0000e+04, 1.0000e+05, 1.0000e+06,\n",
      "        1.0000e+07, 1.0000e+08, 1.0000e+09, 1.0000e+10])\n",
      "tensor([[1., 0.],\n",
      "        [0., 1.],\n",
      "        [0., 0.]])\n"
     ]
    }
   ]
  },
  {
   "cell_type": "code",
   "source": [
    "print(w.numpy(), type(w.numpy()))\n",
    "print(w.tolist(), type(w.tolist()))"
   ],
   "metadata": {
    "colab": {
     "base_uri": "https://localhost:8080/"
    },
    "id": "VkRcba9Cy8Ks",
    "outputId": "002c1f38-9a09-4f71-f8fc-e11527e311f3"
   },
   "execution_count": 6,
   "outputs": [
    {
     "output_type": "stream",
     "name": "stdout",
     "text": [
      "[[1. 0.]\n",
      " [0. 1.]\n",
      " [0. 0.]] <class 'numpy.ndarray'>\n",
      "[[1.0, 0.0], [0.0, 1.0], [0.0, 0.0]] <class 'list'>\n"
     ]
    }
   ]
  },
  {
   "cell_type": "code",
   "source": [
    "x.dtype\n",
    "x.device\n",
    "x.shape\n",
    "x.ndim\n",
    "x.requires_grad\n",
    "x.grad\n",
    "x.grad_fn\n",
    "\n",
    "x.cuda\n",
    "x.is_sparse\n",
    "x.is_quantized\n",
    "x.is_leaf\n",
    "x.is_mkldnn\n",
    "\n",
    "x.layout"
   ],
   "metadata": {
    "colab": {
     "base_uri": "https://localhost:8080/"
    },
    "id": "2IYV_2gYzsJL",
    "outputId": "ca007878-df10-4d2a-cf62-18c16802807f"
   },
   "execution_count": 7,
   "outputs": [
    {
     "output_type": "execute_result",
     "data": {
      "text/plain": [
       "torch.strided"
      ]
     },
     "metadata": {},
     "execution_count": 7
    }
   ]
  },
  {
   "cell_type": "code",
   "source": [
    "w = torch.tensor([1, 2, 3], dtype=torch.float64)\n",
    "\n",
    "w.int()\n",
    "print(w)\n",
    "w = w.int()\n",
    "print(w)\n",
    "\n",
    "w = w.to(torch.float32)\n",
    "print(w.dtype)\n",
    "w = w.to(dtype=torch.int32)\n",
    "print(w.dtype)\n",
    "\n",
    "x = torch.tensor([1, 2, 3], dtype=torch.int32)\n",
    "y = torch.tensor([1, 2, 3], dtype=torch.float32)\n",
    "z = x + y\n",
    "print(z.dtype)"
   ],
   "metadata": {
    "colab": {
     "base_uri": "https://localhost:8080/"
    },
    "id": "-BarvmMW04-R",
    "outputId": "c82f8d81-f94c-4738-df55-8b8866da6dff"
   },
   "execution_count": 8,
   "outputs": [
    {
     "output_type": "stream",
     "name": "stdout",
     "text": [
      "tensor([1., 2., 3.], dtype=torch.float64)\n",
      "tensor([1, 2, 3], dtype=torch.int32)\n",
      "torch.float32\n",
      "torch.int32\n",
      "torch.float32\n"
     ]
    }
   ]
  },
  {
   "cell_type": "code",
   "source": [
    "torch.rand(3, 2)\n",
    "torch.randn(3, 2)\n",
    "torch.normal(0, 1, (3, 2))\n",
    "torch.randint(1, 10, (3, 2))\n",
    "torch.randperm(10)\n",
    "torch.bernoulli(torch.tensor([0.1, 0.2, 0.8, 0.9]))\n",
    "torch.multinomial(torch.tensor([0.1, 0.2, 0.8, 0.9]), 2)"
   ],
   "metadata": {
    "colab": {
     "base_uri": "https://localhost:8080/"
    },
    "id": "vvNJwhhP2zFf",
    "outputId": "be2e7e60-1f12-4b20-8eec-7e8fba5583a0"
   },
   "execution_count": 9,
   "outputs": [
    {
     "output_type": "execute_result",
     "data": {
      "text/plain": [
       "tensor([2, 3])"
      ]
     },
     "metadata": {},
     "execution_count": 9
    }
   ]
  },
  {
   "cell_type": "code",
   "source": [
    "x = torch.empty(3, 2).log_normal_()\n",
    "x"
   ],
   "metadata": {
    "colab": {
     "base_uri": "https://localhost:8080/"
    },
    "id": "yRz4Fz1f367j",
    "outputId": "ab4b94a3-78b4-4a2c-c77b-28a8897b8502"
   },
   "execution_count": 10,
   "outputs": [
    {
     "output_type": "execute_result",
     "data": {
      "text/plain": [
       "tensor([[98.1737, 18.2089],\n",
       "        [18.3097,  3.6761],\n",
       "        [ 0.1494,  1.2581]])"
      ]
     },
     "metadata": {},
     "execution_count": 10
    }
   ]
  },
  {
   "cell_type": "code",
   "source": [
    "torch.empty_like(x)\n",
    "torch.zeros_like(x)\n",
    "torch.ones_like(x)\n",
    "torch.full_like(x, 10)\n",
    "torch.rand_like(x)\n",
    "torch.randn_like(x)\n",
    "torch.randint_like(x, 1, 10)"
   ],
   "metadata": {
    "colab": {
     "base_uri": "https://localhost:8080/"
    },
    "id": "unPRbsku4zRr",
    "outputId": "c5f47a19-8511-4994-d8e1-d89a05b8a353"
   },
   "execution_count": 11,
   "outputs": [
    {
     "output_type": "execute_result",
     "data": {
      "text/plain": [
       "tensor([[6., 3.],\n",
       "        [1., 5.],\n",
       "        [8., 1.]])"
      ]
     },
     "metadata": {},
     "execution_count": 11
    }
   ]
  },
  {
   "cell_type": "markdown",
   "source": [
    "# Tensor Operations"
   ],
   "metadata": {
    "id": "yq8ESqodAS-t"
   }
  },
  {
   "cell_type": "markdown",
   "source": [
    "## Indexing, Slicing, Combining, and Splitting Tensors"
   ],
   "metadata": {
    "id": "q5hPS2YXGNn8"
   }
  },
  {
   "cell_type": "code",
   "source": [
    "x = torch.tensor([[1, 2], [3, 4], [5, 6], [7, 8]])\n",
    "print(x)\n",
    "\n",
    "# Indexing\n",
    "print(x[1, 1])\n",
    "print(x[1, 1].item())"
   ],
   "metadata": {
    "colab": {
     "base_uri": "https://localhost:8080/"
    },
    "id": "r2EGA5YZ5QgD",
    "outputId": "877dfc30-4657-4a42-ac0a-93c8cebe166f"
   },
   "execution_count": 12,
   "outputs": [
    {
     "output_type": "stream",
     "name": "stdout",
     "text": [
      "tensor([[1, 2],\n",
      "        [3, 4],\n",
      "        [5, 6],\n",
      "        [7, 8]])\n",
      "tensor(4)\n",
      "4\n"
     ]
    }
   ]
  },
  {
   "cell_type": "code",
   "source": [
    "# Slicing\n",
    "print(x[:2, 1])\n",
    "\n",
    "# Boolean Indexing\n",
    "print(x[x < 5])"
   ],
   "metadata": {
    "colab": {
     "base_uri": "https://localhost:8080/"
    },
    "id": "2asd5FpcAeov",
    "outputId": "d5858ee4-7dc5-40d6-c876-6db16f607b25"
   },
   "execution_count": 13,
   "outputs": [
    {
     "output_type": "stream",
     "name": "stdout",
     "text": [
      "tensor([2, 4])\n",
      "tensor([1, 2, 3, 4])\n"
     ]
    }
   ]
  },
  {
   "cell_type": "code",
   "source": [
    "print(x.T)\n",
    "print(x.t())\n",
    "print(x.transpose(0, 1))\n",
    "\n",
    "# Change shape\n",
    "print(x.view((2, 4)))"
   ],
   "metadata": {
    "colab": {
     "base_uri": "https://localhost:8080/"
    },
    "id": "cZvrt-RDBQDp",
    "outputId": "3dd0e174-3b00-46cd-f2d1-cad8efcd2147"
   },
   "execution_count": 14,
   "outputs": [
    {
     "output_type": "stream",
     "name": "stdout",
     "text": [
      "tensor([[1, 3, 5, 7],\n",
      "        [2, 4, 6, 8]])\n",
      "tensor([[1, 3, 5, 7],\n",
      "        [2, 4, 6, 8]])\n",
      "tensor([[1, 3, 5, 7],\n",
      "        [2, 4, 6, 8]])\n",
      "tensor([[1, 2, 3, 4],\n",
      "        [5, 6, 7, 8]])\n"
     ]
    }
   ]
  },
  {
   "cell_type": "code",
   "source": [
    "# Combining Tensors\n",
    "y = torch.stack((x, x))\n",
    "print(y)\n",
    "print(y.shape)\n",
    "\n",
    "a, b = y.unbind(dim=0)\n",
    "print(a)"
   ],
   "metadata": {
    "colab": {
     "base_uri": "https://localhost:8080/"
    },
    "id": "3eCgmuewBUe_",
    "outputId": "8c01db77-b3c7-4974-a4ee-2b851aaa3f37"
   },
   "execution_count": 15,
   "outputs": [
    {
     "output_type": "stream",
     "name": "stdout",
     "text": [
      "tensor([[[1, 2],\n",
      "         [3, 4],\n",
      "         [5, 6],\n",
      "         [7, 8]],\n",
      "\n",
      "        [[1, 2],\n",
      "         [3, 4],\n",
      "         [5, 6],\n",
      "         [7, 8]]])\n",
      "torch.Size([2, 4, 2])\n",
      "tensor([[1, 2],\n",
      "        [3, 4],\n",
      "        [5, 6],\n",
      "        [7, 8]])\n"
     ]
    }
   ]
  },
  {
   "cell_type": "code",
   "source": [
    "torch.cat((x, x), dim=0)\n",
    "torch.chunk(x, 4, dim=0)\n",
    "torch.gather(x, dim=0, index=torch.tensor([[1, 1], [1, 1], [2, 2], [3, 3]]))\n",
    "torch.index_select(x, dim=0, index=torch.tensor([1, 1, 2, 3]))\n",
    "torch.masked_select(x, torch.BoolTensor([[1, 1], [0, 1], [0, 1], [0, 1]]))\n",
    "torch.narrow(x, dim=0, start=0, length=2)\n",
    "torch.nonzero(x)\n",
    "torch.reshape(x, shape=(2, 4))\n",
    "torch.split(x, split_size_or_sections=2, dim=0)\n",
    "x = torch.unsqueeze(x, dim=0)\n",
    "x = torch.squeeze(x)\n",
    "torch.take(x, index=torch.tensor([0, 1, 2, 3]))\n",
    "torch.where(x > 5, x, x * 2)"
   ],
   "metadata": {
    "colab": {
     "base_uri": "https://localhost:8080/"
    },
    "id": "MTlunCVwBsOj",
    "outputId": "ae4112a4-4813-4c5e-8ca7-17d8f769242e"
   },
   "execution_count": 16,
   "outputs": [
    {
     "output_type": "execute_result",
     "data": {
      "text/plain": [
       "tensor([[ 2,  4],\n",
       "        [ 6,  8],\n",
       "        [10,  6],\n",
       "        [ 7,  8]])"
      ]
     },
     "metadata": {},
     "execution_count": 16
    }
   ]
  },
  {
   "cell_type": "markdown",
   "source": [
    "## Tensor Operations for Mathematics"
   ],
   "metadata": {
    "id": "Y8072h0IGUqQ"
   }
  },
  {
   "cell_type": "markdown",
   "source": [
    "### Pointwise"
   ],
   "metadata": {
    "id": "mYDdZ3iRV3Tj"
   }
  },
  {
   "cell_type": "code",
   "source": [
    "# Basic Math\n",
    "x = torch.tensor([[1, 2], [3, 4]])\n",
    "y = torch.tensor([[5, 6], [7, 8]])\n",
    "\n",
    "x.add(y)\n",
    "print(x)\n",
    "x.add_(y)\n",
    "print(x)\n",
    "\n",
    "x.sub(y)\n",
    "x.div(y)\n",
    "x.mul(y)\n",
    "x.reciprocal()\n",
    "x.true_divide(y)"
   ],
   "metadata": {
    "id": "zBYApNhfEdEm",
    "colab": {
     "base_uri": "https://localhost:8080/"
    },
    "outputId": "b94c5ca2-5b9c-4c23-fb6c-08510ed910fb"
   },
   "execution_count": 17,
   "outputs": [
    {
     "output_type": "stream",
     "name": "stdout",
     "text": [
      "tensor([[1, 2],\n",
      "        [3, 4]])\n",
      "tensor([[ 6,  8],\n",
      "        [10, 12]])\n"
     ]
    },
    {
     "output_type": "execute_result",
     "data": {
      "text/plain": [
       "tensor([[1.2000, 1.3333],\n",
       "        [1.4286, 1.5000]])"
      ]
     },
     "metadata": {},
     "execution_count": 17
    }
   ]
  },
  {
   "cell_type": "code",
   "source": [
    "# Truncation\n",
    "\n",
    "x.ceil()\n",
    "x.clamp(min=2, max=5)\n",
    "x.floor()\n",
    "x.floor_divide(y)\n",
    "x.fmod(y)\n",
    "x.remainder(y)\n",
    "x.round()\n",
    "x.sigmoid()"
   ],
   "metadata": {
    "id": "M5gfuws9PTfs",
    "colab": {
     "base_uri": "https://localhost:8080/"
    },
    "outputId": "90c654c9-d803-4439-b0d3-568eef10d8b3"
   },
   "execution_count": 18,
   "outputs": [
    {
     "output_type": "execute_result",
     "data": {
      "text/plain": [
       "tensor([[0.9975, 0.9997],\n",
       "        [1.0000, 1.0000]])"
      ]
     },
     "metadata": {},
     "execution_count": 18
    }
   ]
  },
  {
   "cell_type": "code",
   "source": [
    "# Complex numbers\n",
    "x = torch.tensor([1 + 2j, 3 + 4j])\n",
    "\n",
    "x.abs()\n",
    "x.angle()\n",
    "x.conj()\n",
    "x.imag\n",
    "x.real"
   ],
   "metadata": {
    "id": "l7Lfszr4PR8Q",
    "colab": {
     "base_uri": "https://localhost:8080/"
    },
    "outputId": "c396435a-4296-43d2-d5bc-a0e032ec1182"
   },
   "execution_count": 19,
   "outputs": [
    {
     "output_type": "execute_result",
     "data": {
      "text/plain": [
       "tensor([1., 3.])"
      ]
     },
     "metadata": {},
     "execution_count": 19
    }
   ]
  },
  {
   "cell_type": "code",
   "source": [
    "# Trigonometry\n",
    "x = torch.tensor([0, torch.pi / 4, torch.pi / 2, 3 * torch.pi / 4])\n",
    "\n",
    "x.acos()\n",
    "x.asin()\n",
    "x.atan()\n",
    "x.sin()\n",
    "x.cos()\n",
    "x.sinh()\n",
    "x.cosh()\n",
    "x.tan()\n",
    "x.tanh()\n",
    "x.deg2rad()\n",
    "x.rad2deg()"
   ],
   "metadata": {
    "id": "M3Woeuu5PQjO",
    "colab": {
     "base_uri": "https://localhost:8080/"
    },
    "outputId": "95009a0f-1857-417d-a9f7-b348d271cc94"
   },
   "execution_count": 20,
   "outputs": [
    {
     "output_type": "execute_result",
     "data": {
      "text/plain": [
       "tensor([  0.,  45.,  90., 135.])"
      ]
     },
     "metadata": {},
     "execution_count": 20
    }
   ]
  },
  {
   "cell_type": "code",
   "source": [
    "# Exponents and logarithms\n",
    "\n",
    "x = torch.tensor([1, 2, 3])\n",
    "\n",
    "x.exp()\n",
    "x.expm1()\n",
    "x.log()\n",
    "x.log10()\n",
    "x.log1p()\n",
    "x.log2()\n",
    "x.pow(2)\n",
    "x.rsqrt()\n",
    "x.sqrt()\n",
    "x.square()"
   ],
   "metadata": {
    "colab": {
     "base_uri": "https://localhost:8080/"
    },
    "id": "ZZdkBMQRPdmO",
    "outputId": "db43d523-9bb6-45ee-e574-09a31e107fd8"
   },
   "execution_count": 21,
   "outputs": [
    {
     "output_type": "execute_result",
     "data": {
      "text/plain": [
       "tensor([1, 4, 9])"
      ]
     },
     "metadata": {},
     "execution_count": 21
    }
   ]
  },
  {
   "cell_type": "code",
   "source": [
    "# Logical\n",
    "x = torch.tensor([[1, 0], [0, 1]])\n",
    "y = torch.tensor([[0, 1], [1, 0]])\n",
    "\n",
    "x.logical_and(y)\n",
    "x.logical_not()\n",
    "x.logical_or(y)\n",
    "x.logical_xor(y)"
   ],
   "metadata": {
    "colab": {
     "base_uri": "https://localhost:8080/"
    },
    "id": "NX79QLf7P5x7",
    "outputId": "82f02c26-b007-44ca-a1b3-b9a591a5cb51"
   },
   "execution_count": 22,
   "outputs": [
    {
     "output_type": "execute_result",
     "data": {
      "text/plain": [
       "tensor([[True, True],\n",
       "        [True, True]])"
      ]
     },
     "metadata": {},
     "execution_count": 22
    }
   ]
  },
  {
   "cell_type": "code",
   "source": [
    "# Bitwise operators\n",
    "\n",
    "x.bitwise_not()\n",
    "x.bitwise_and(y)\n",
    "x.bitwise_or(y)\n",
    "x.bitwise_xor(y)"
   ],
   "metadata": {
    "colab": {
     "base_uri": "https://localhost:8080/"
    },
    "id": "Xp_HpFKwQtAn",
    "outputId": "6079d229-904d-44e7-f467-3fc73529b4f8"
   },
   "execution_count": 23,
   "outputs": [
    {
     "output_type": "execute_result",
     "data": {
      "text/plain": [
       "tensor([[1, 1],\n",
       "        [1, 1]])"
      ]
     },
     "metadata": {},
     "execution_count": 23
    }
   ]
  },
  {
   "cell_type": "code",
   "source": [
    "# Error functions\n",
    "\n",
    "x = torch.tensor([0.0, 0.5, 1.0])\n",
    "\n",
    "x.erf()\n",
    "x.erfc()\n",
    "x.erfinv()"
   ],
   "metadata": {
    "colab": {
     "base_uri": "https://localhost:8080/"
    },
    "id": "x-0kHbZWQ-fG",
    "outputId": "fefe6356-9b0c-496d-98e5-6ee39b9caf51"
   },
   "execution_count": 24,
   "outputs": [
    {
     "output_type": "execute_result",
     "data": {
      "text/plain": [
       "tensor([0.0000, 0.4769,    inf])"
      ]
     },
     "metadata": {},
     "execution_count": 24
    }
   ]
  },
  {
   "cell_type": "code",
   "source": [
    "# Gamma functions\n",
    "\n",
    "x = torch.tensor([1, 2, 3])\n",
    "\n",
    "x.digamma()\n",
    "x.lgamma()\n",
    "x.mvlgamma(p=2)\n",
    "x.polygamma(n=2)"
   ],
   "metadata": {
    "colab": {
     "base_uri": "https://localhost:8080/"
    },
    "id": "Im5aE6LcRgWK",
    "outputId": "cfb17526-ff2c-4910-e9f6-2fbb5e251bcc"
   },
   "execution_count": 25,
   "outputs": [
    {
     "output_type": "execute_result",
     "data": {
      "text/plain": [
       "tensor([-2.4041, -0.4041, -0.1541])"
      ]
     },
     "metadata": {},
     "execution_count": 25
    }
   ]
  },
  {
   "cell_type": "markdown",
   "source": [
    "### Reduction operations"
   ],
   "metadata": {
    "id": "KakNyN8rSRhU"
   }
  },
  {
   "cell_type": "code",
   "source": [
    "x = torch.tensor([[0.1, 0.2, 0.3], [0.9, 0.5, 0.6], [0.7, 0.0, 0.9]])\n",
    "y = torch.tensor([[0.1, 0.2, 0.3], [0.9, 0.5, 0.6], [0.7, 0.0, 0.9]])\n",
    "\n",
    "torch.argmax(x, dim=0)\n",
    "torch.argmin(x, dim=0)\n",
    "torch.dist(x, y, p=3.5)\n",
    "torch.logsumexp(x, dim=0)\n",
    "torch.mean(x, dim=0)\n",
    "torch.median(x, dim=0)\n",
    "torch.mode(x, dim=0)\n",
    "torch.norm(x, p=2, dim=0)\n",
    "torch.prod(x, dim=0)\n",
    "torch.std(x, dim=0)\n",
    "torch.std_mean(x, dim=0)\n",
    "torch.sum(x, dim=0)\n",
    "torch.var(x, dim=0)\n",
    "torch.var_mean(x, dim=0)\n",
    "torch.unique(x, dim=0)\n",
    "torch.unique_consecutive(x, dim=0)"
   ],
   "metadata": {
    "colab": {
     "base_uri": "https://localhost:8080/"
    },
    "id": "UdBp0JHwSSbO",
    "outputId": "52df51e0-7123-4bed-9021-2ee5a5027e32"
   },
   "execution_count": 26,
   "outputs": [
    {
     "output_type": "execute_result",
     "data": {
      "text/plain": [
       "tensor([[0.1000, 0.2000, 0.3000],\n",
       "        [0.9000, 0.5000, 0.6000],\n",
       "        [0.7000, 0.0000, 0.9000]])"
      ]
     },
     "metadata": {},
     "execution_count": 26
    }
   ]
  },
  {
   "cell_type": "markdown",
   "source": [
    "### Comparison Operations"
   ],
   "metadata": {
    "id": "oGSpikcAV9w4"
   }
  },
  {
   "cell_type": "code",
   "source": [
    "# Compare a tensor to other tensors\n",
    "\n",
    "x = torch.tensor([[1, 2], [3, 4]])\n",
    "y = torch.tensor([[5, 6], [7, 8]])\n",
    "\n",
    "x.eq(y)\n",
    "x == y\n",
    "x.ge(y)\n",
    "x >= y\n",
    "x.gt(y)\n",
    "x > y\n",
    "x.le(y)\n",
    "x <= y\n",
    "x.lt(y)\n",
    "x < y\n",
    "x.ne(y)\n",
    "x != y\n",
    "\n",
    "\n",
    "x.isclose(y, atol=1e-08, rtol=1e-08)\n",
    "x.isfinite()\n",
    "x.isinf()\n",
    "x.isnan()\n",
    "\n",
    "x.allclose(y)\n",
    "x.equal(y)\n",
    "\n",
    "x.argsort(dim=0)\n",
    "x.kthvalue(k=2, dim=0)\n",
    "x.max(dim=0)\n",
    "x.min(dim=0)\n",
    "x.sort(dim=0, descending=True)\n",
    "x.topk(k=2, dim=0)"
   ],
   "metadata": {
    "colab": {
     "base_uri": "https://localhost:8080/"
    },
    "id": "kx1ecoQKV_FU",
    "outputId": "47821e00-f565-40a2-e8c3-611f24a4c026"
   },
   "execution_count": 27,
   "outputs": [
    {
     "output_type": "execute_result",
     "data": {
      "text/plain": [
       "torch.return_types.topk(\n",
       "values=tensor([[3, 4],\n",
       "        [1, 2]]),\n",
       "indices=tensor([[1, 1],\n",
       "        [0, 0]]))"
      ]
     },
     "metadata": {},
     "execution_count": 27
    }
   ]
  },
  {
   "cell_type": "markdown",
   "source": [
    "### Linear algebra operations"
   ],
   "metadata": {
    "id": "t1d5m-cXXXbk"
   }
  },
  {
   "cell_type": "code",
   "source": [
    "x = torch.tensor([[0.1, 0.2, 0.3], [0.9, 0.5, 0.6], [0.7, 0.0, 0.9]])\n",
    "y = torch.tensor([[0.1, 0.2, 0.3], [0.9, 0.5, 0.6], [0.7, 0.0, 0.9]])\n",
    "\n",
    "torch.matmul(x, y)\n",
    "torch.mm(x, y)\n",
    "torch.chain_matmul(x, y, x)\n",
    "torch.bmm(torch.stack((x, x)), torch.stack((y, y)))\n",
    "torch.addmm(x, y, x)\n",
    "torch.mv(x, y[:, 0])\n",
    "torch.addmv(x[:, 0], y, x[:, 0])\n",
    "torch.matrix_exp(x)\n",
    "torch.matrix_power(x, 2)\n",
    "torch.linalg.eig(x)\n",
    "torch.inverse(x)\n",
    "torch.det(x)\n",
    "torch.logdet(x)\n",
    "torch.dot(x[0, :], y[:, 0])\n",
    "torch.linalg.solve(x, y)\n",
    "torch.svd(x)\n",
    "torch.pca_lowrank(x, q=2)"
   ],
   "metadata": {
    "colab": {
     "base_uri": "https://localhost:8080/"
    },
    "id": "Mb5mldoVXpYT",
    "outputId": "c3bb3125-93e8-4c88-e633-da95233e7d32"
   },
   "execution_count": 28,
   "outputs": [
    {
     "output_type": "stream",
     "name": "stderr",
     "text": [
      "/usr/local/lib/python3.10/dist-packages/torch/functional.py:1822: UserWarning: torch.chain_matmul is deprecated and will be removed in a future PyTorch release. Use torch.linalg.multi_dot instead, which accepts a list of two or more tensors rather than multiple parameters. (Triggered internally at ../aten/src/ATen/native/LinearAlgebra.cpp:1104.)\n",
      "  return _VF.chain_matmul(matrices)  # type: ignore[attr-defined]\n"
     ]
    },
    {
     "output_type": "execute_result",
     "data": {
      "text/plain": [
       "(tensor([[-0.8149, -0.0514],\n",
       "         [ 0.4520, -0.6800],\n",
       "         [ 0.3629,  0.7314]]),\n",
       " tensor([0.6815, 0.4346]),\n",
       " tensor([[ 0.8501, -0.2419],\n",
       "         [ 0.0925, -0.8059],\n",
       "         [ 0.5185,  0.5404]]))"
      ]
     },
     "metadata": {},
     "execution_count": 28
    }
   ]
  },
  {
   "cell_type": "markdown",
   "source": [
    "### Spectral and other math operations"
   ],
   "metadata": {
    "id": "dPu_5QgXdiaQ"
   }
  },
  {
   "cell_type": "code",
   "source": [
    "# Fourier\n",
    "x = torch.tensor([[0.1, 0.2, 0.3], [0.9, 0.5, 0.6], [0.7, 0.0, 0.9]])\n",
    "\n",
    "torch.fft.fft(x)\n",
    "torch.fft.ifft(x)\n",
    "torch.fft.rfft(x)\n",
    "torch.fft.irfft(x)"
   ],
   "metadata": {
    "colab": {
     "base_uri": "https://localhost:8080/"
    },
    "id": "UeeM8h-EWBZs",
    "outputId": "878a1035-315f-4592-9f59-413590f48477"
   },
   "execution_count": 29,
   "outputs": [
    {
     "output_type": "execute_result",
     "data": {
      "text/plain": [
       "tensor([[ 0.2000, -0.0500,  0.0000, -0.0500],\n",
       "        [ 0.6250,  0.0750,  0.1250,  0.0750],\n",
       "        [ 0.4000, -0.0500,  0.4000, -0.0500]])"
      ]
     },
     "metadata": {},
     "execution_count": 29
    }
   ]
  },
  {
   "cell_type": "code",
   "source": [
    "# Histogram and bin counts\n",
    "\n",
    "torch.histc(x, bins=2, min=0, max=1)\n",
    "torch.histogram(x, bins=2, range=(0, 1))\n",
    "\n",
    "x = torch.tensor([0, 1, 2, 3, 4])\n",
    "torch.bincount(x, minlength=2)"
   ],
   "metadata": {
    "id": "6zxICFZXWOBR",
    "colab": {
     "base_uri": "https://localhost:8080/"
    },
    "outputId": "c83c73f1-3d29-4bd6-d261-2d854f008c7e"
   },
   "execution_count": 30,
   "outputs": [
    {
     "output_type": "execute_result",
     "data": {
      "text/plain": [
       "tensor([1, 1, 1, 1, 1])"
      ]
     },
     "metadata": {},
     "execution_count": 30
    }
   ]
  },
  {
   "cell_type": "code",
   "source": [
    "# Cumulative operations\n",
    "x = torch.tensor([[0.1, 0.2, 0.3], [0.9, 0.5, 0.6], [0.7, 0.0, 0.9]])\n",
    "\n",
    "torch.cummax(x, dim=0)\n",
    "torch.cummin(x, dim=0)\n",
    "torch.cumprod(x, dim=0)\n",
    "torch.cumsum(x, dim=0)\n",
    "torch.trace(x)\n",
    "torch.einsum(\"ij,jk->ik\", x, x)"
   ],
   "metadata": {
    "colab": {
     "base_uri": "https://localhost:8080/"
    },
    "id": "bFcOWQk0WK8I",
    "outputId": "4d6b3df1-7ab9-49a7-f608-089a09e8880e"
   },
   "execution_count": 31,
   "outputs": [
    {
     "output_type": "execute_result",
     "data": {
      "text/plain": [
       "tensor([[0.4000, 0.1200, 0.4200],\n",
       "        [0.9600, 0.4300, 1.1100],\n",
       "        [0.7000, 0.1400, 1.0200]])"
      ]
     },
     "metadata": {},
     "execution_count": 31
    }
   ]
  },
  {
   "cell_type": "code",
   "source": [
    "# Normalization functions\n",
    "x = torch.tensor([[0.1, 0.2, 0.3], [0.9, 0.5, 0.6], [0.7, 0.0, 0.9]])\n",
    "\n",
    "torch.cdist(x, x)\n",
    "torch.renorm(x, p=2, dim=0, maxnorm=1)"
   ],
   "metadata": {
    "colab": {
     "base_uri": "https://localhost:8080/"
    },
    "id": "O8YxF-zdW6H6",
    "outputId": "6f8d5326-7610-4816-a263-deff793769b9"
   },
   "execution_count": 32,
   "outputs": [
    {
     "output_type": "execute_result",
     "data": {
      "text/plain": [
       "tensor([[0.1000, 0.2000, 0.3000],\n",
       "        [0.7553, 0.4196, 0.5035],\n",
       "        [0.6139, 0.0000, 0.7894]])"
      ]
     },
     "metadata": {},
     "execution_count": 32
    }
   ]
  },
  {
   "cell_type": "code",
   "source": [
    "# Cross product, dot product, and Cartesian product\n",
    "\n",
    "x = torch.tensor([1, 2, 3])\n",
    "y = torch.tensor([4, 5, 6])\n",
    "\n",
    "torch.cross(x, y)\n",
    "torch.dot(x, y)\n",
    "torch.cartesian_prod(x, y)"
   ],
   "metadata": {
    "colab": {
     "base_uri": "https://localhost:8080/"
    },
    "id": "UemBFn7IXVHo",
    "outputId": "5abf4d87-6e32-4a24-b96e-28584da654a8"
   },
   "execution_count": 33,
   "outputs": [
    {
     "output_type": "stream",
     "name": "stderr",
     "text": [
      "<ipython-input-33-7904286dd507>:6: UserWarning: Using torch.cross without specifying the dim arg is deprecated.\n",
      "Please either pass the dim explicitly or simply use torch.linalg.cross.\n",
      "The default value of dim will change to agree with that of linalg.cross in a future release. (Triggered internally at ../aten/src/ATen/native/Cross.cpp:62.)\n",
      "  torch.cross(x,y)\n"
     ]
    },
    {
     "output_type": "execute_result",
     "data": {
      "text/plain": [
       "tensor([[1, 4],\n",
       "        [1, 5],\n",
       "        [1, 6],\n",
       "        [2, 4],\n",
       "        [2, 5],\n",
       "        [2, 6],\n",
       "        [3, 4],\n",
       "        [3, 5],\n",
       "        [3, 6]])"
      ]
     },
     "metadata": {},
     "execution_count": 33
    }
   ]
  },
  {
   "cell_type": "code",
   "source": [
    "# Functions that create a diagonal tensor with elements of the input tensor\n",
    "\n",
    "torch.diag(x)\n",
    "torch.diag_embed(x)\n",
    "torch.diagflat(x)"
   ],
   "metadata": {
    "colab": {
     "base_uri": "https://localhost:8080/"
    },
    "id": "TyB5NPMsXngs",
    "outputId": "ff2a805a-9b04-420f-c161-f5fb8d6f93c7"
   },
   "execution_count": 34,
   "outputs": [
    {
     "output_type": "execute_result",
     "data": {
      "text/plain": [
       "tensor([[1, 0, 0],\n",
       "        [0, 2, 0],\n",
       "        [0, 0, 3]])"
      ]
     },
     "metadata": {},
     "execution_count": 34
    }
   ]
  },
  {
   "cell_type": "code",
   "source": [
    "# Matrix reduction and restructuring functions\n",
    "\n",
    "x = torch.tensor([[0.1, 0.2, 0.3], [0.9, 0.5, 0.6], [0.7, 0.0, 0.9]])\n",
    "\n",
    "torch.flatten(x)\n",
    "torch.flip(x, dims=(0, 1))\n",
    "torch.rot90(x, k=1, dims=(0, 1))\n",
    "torch.repeat_interleave(x, repeats=2, dim=0)\n",
    "torch.meshgrid(x[:, 0], x[:, 0])\n",
    "torch.roll(x, shifts=1, dims=0)\n",
    "torch.combinations(x[:, 0], r=2)"
   ],
   "metadata": {
    "colab": {
     "base_uri": "https://localhost:8080/"
    },
    "id": "ReyA_UPcX-Qx",
    "outputId": "f97eba21-d949-4510-c3f2-85d7f6ef5251"
   },
   "execution_count": 35,
   "outputs": [
    {
     "output_type": "stream",
     "name": "stderr",
     "text": [
      "/usr/local/lib/python3.10/dist-packages/torch/functional.py:513: UserWarning: torch.meshgrid: in an upcoming release, it will be required to pass the indexing argument. (Triggered internally at ../aten/src/ATen/native/TensorShape.cpp:3609.)\n",
      "  return _VF.meshgrid(tensors, **kwargs)  # type: ignore[attr-defined]\n"
     ]
    },
    {
     "output_type": "execute_result",
     "data": {
      "text/plain": [
       "tensor([[0.1000, 0.9000],\n",
       "        [0.1000, 0.7000],\n",
       "        [0.9000, 0.7000]])"
      ]
     },
     "metadata": {},
     "execution_count": 35
    }
   ]
  },
  {
   "cell_type": "code",
   "source": [
    "# Functions that return the lower or upper triangles and their indices\n",
    "\n",
    "torch.tril(x)\n",
    "torch.tril_indices(3, 3)\n",
    "torch.triu(x)\n",
    "torch.triu_indices(3, 3)"
   ],
   "metadata": {
    "colab": {
     "base_uri": "https://localhost:8080/"
    },
    "id": "xfdTafl_dm0E",
    "outputId": "af6afc63-78e2-4dcc-d65a-962b7fa7bb34"
   },
   "execution_count": 36,
   "outputs": [
    {
     "output_type": "execute_result",
     "data": {
      "text/plain": [
       "tensor([[0, 0, 0, 1, 1, 2],\n",
       "        [0, 1, 2, 1, 2, 2]])"
      ]
     },
     "metadata": {},
     "execution_count": 36
    }
   ]
  },
  {
   "cell_type": "markdown",
   "source": [
    "## Automatic Differentiation (Autograd)"
   ],
   "metadata": {
    "id": "SbTt-EMBdnYz"
   }
  },
  {
   "cell_type": "code",
   "source": [
    "x = torch.tensor([[1, 2], [3, 4]], dtype=torch.float, requires_grad=True)\n",
    "\n",
    "f = x.pow(2).sum()\n",
    "\n",
    "f.backward()\n",
    "\n",
    "print(x.grad)"
   ],
   "metadata": {
    "colab": {
     "base_uri": "https://localhost:8080/"
    },
    "id": "FmAz-nbJdtBD",
    "outputId": "13d24333-91e1-4a53-f976-03eee9d0348f"
   },
   "execution_count": 37,
   "outputs": [
    {
     "output_type": "stream",
     "name": "stdout",
     "text": [
      "tensor([[2., 4.],\n",
      "        [6., 8.]])\n"
     ]
    }
   ]
  },
  {
   "cell_type": "code",
   "source": [],
   "metadata": {
    "id": "ub054BKfd7bq"
   },
   "execution_count": 37,
   "outputs": []
  }
 ]
}