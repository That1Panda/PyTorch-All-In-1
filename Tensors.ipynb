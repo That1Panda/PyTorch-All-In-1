{
 "cells": [
  {
   "cell_type": "markdown",
   "metadata": {
    "id": "7QYPHxFyAWv9"
   },
   "source": [
    "# Creating Tensors"
   ]
  },
  {
   "cell_type": "code",
   "execution_count": 1,
   "metadata": {
    "colab": {
     "base_uri": "https://localhost:8080/"
    },
    "id": "VbTCDJHnukFz",
    "outputId": "f943bdf6-ce1d-4987-9311-87094be916ad"
   },
   "outputs": [
    {
     "name": "stdout",
     "output_type": "stream",
     "text": [
      "tensor([[ 8, 10, 12],\n",
      "        [14, 16, 18]])\n",
      "torch.Size([2, 3])\n"
     ]
    }
   ],
   "source": [
    "import torch\n",
    "\n",
    "x = torch.tensor([[1, 2, 3], [4, 5, 6]])\n",
    "y = torch.tensor([[7, 8, 9], [10, 11, 12]])\n",
    "z = x + y\n",
    "\n",
    "print(z)\n",
    "print(z.size())"
   ]
  },
  {
   "cell_type": "code",
   "execution_count": 2,
   "metadata": {
    "colab": {
     "base_uri": "https://localhost:8080/"
    },
    "id": "f38-ERa1upn2",
    "outputId": "3a2864fa-9017-4ae9-d8fd-a8e2859c2b14"
   },
   "outputs": [
    {
     "name": "stdout",
     "output_type": "stream",
     "text": [
      "cuda\n",
      "tensor([[ 8, 10, 12],\n",
      "        [14, 16, 18]], device='cuda:0')\n",
      "torch.Size([2, 3])\n",
      "cuda:0\n"
     ]
    }
   ],
   "source": [
    "device = \"cuda\" if torch.cuda.is_available() else \"cpu\"\n",
    "print(device)\n",
    "\n",
    "x = torch.tensor([[1, 2, 3], [4, 5, 6]], device=device)\n",
    "y = torch.tensor([[7, 8, 9], [10, 11, 12]], device=device)\n",
    "z = x + y\n",
    "\n",
    "print(z)\n",
    "print(z.shape)\n",
    "print(z.device)"
   ]
  },
  {
   "cell_type": "code",
   "execution_count": 3,
   "metadata": {
    "id": "USS-V7lOu6q9"
   },
   "outputs": [],
   "source": [
    "import numpy as np\n",
    "\n",
    "# Created tensors from preexisting arrays\n",
    "w = torch.tensor([1, 2, 3])\n",
    "w = torch.tensor((1, 2, 3))\n",
    "w = torch.tensor(np.array([1, 2, 3]))\n",
    "\n",
    "# Initalized by size\n",
    "w = torch.empty(100, 200)\n",
    "w = torch.zeros(100, 200)\n",
    "w = torch.ones(100, 200)"
   ]
  },
  {
   "cell_type": "code",
   "execution_count": 4,
   "metadata": {
    "id": "gaVax60sv8pf"
   },
   "outputs": [],
   "source": [
    "# Initialize by size with random values\n",
    "w = torch.rand(100, 200)\n",
    "w = torch.randn(100, 200)\n",
    "w = torch.randint(5, 12, (100, 200))\n",
    "\n",
    "# Initialized by certain datatype or device\n",
    "w = torch.empty((100, 200), dtype=torch.float64, device=device)\n",
    "\n",
    "# Initialized to have same size, datatpe and device as a tensor\n",
    "x = torch.empty_like(w)\n",
    "x = torch.zeros_like(w)\n",
    "x = torch.ones_like(w)"
   ]
  },
  {
   "cell_type": "code",
   "execution_count": 8,
   "metadata": {
    "colab": {
     "base_uri": "https://localhost:8080/"
    },
    "id": "PkfopsKyy2UG",
    "outputId": "37eebde6-16d6-46b3-ec5b-b71912e217ec"
   },
   "outputs": [
    {
     "name": "stdout",
     "output_type": "stream",
     "text": [
      "tensor([1, 2, 3, 4, 5, 6, 7, 8, 9])\n",
      "tensor([ 1.,  2.,  3.,  4.,  5.,  6.,  7.,  8.,  9., 10.])\n",
      "tensor([1.0000e+01, 1.0000e+02, 1.0000e+03, 1.0000e+04, 1.0000e+05, 1.0000e+06,\n",
      "        1.0000e+07, 1.0000e+08, 1.0000e+09, 1.0000e+10])\n",
      "tensor([[1., 0.],\n",
      "        [0., 1.],\n",
      "        [0., 0.]])\n"
     ]
    }
   ],
   "source": [
    "w = torch.arange(1, 10, 1)\n",
    "print(w)\n",
    "w = torch.linspace(1, 10, 10)\n",
    "print(w)\n",
    "w = torch.logspace(1, 10, 10)\n",
    "print(w)\n",
    "w = torch.eye(3, 2)\n",
    "print(w)"
   ]
  },
  {
   "cell_type": "code",
   "execution_count": 14,
   "metadata": {
    "colab": {
     "base_uri": "https://localhost:8080/"
    },
    "id": "VkRcba9Cy8Ks",
    "outputId": "6b80d8de-f62b-4fe3-96d0-107cbd42ce02"
   },
   "outputs": [
    {
     "name": "stdout",
     "output_type": "stream",
     "text": [
      "[[1. 0.]\n",
      " [0. 1.]\n",
      " [0. 0.]] <class 'numpy.ndarray'>\n",
      "[[1.0, 0.0], [0.0, 1.0], [0.0, 0.0]] <class 'list'>\n"
     ]
    }
   ],
   "source": [
    "print(w.numpy(), type(w.numpy()))\n",
    "print(w.tolist(), type(w.tolist()))"
   ]
  },
  {
   "cell_type": "code",
   "execution_count": 17,
   "metadata": {
    "colab": {
     "base_uri": "https://localhost:8080/"
    },
    "id": "2IYV_2gYzsJL",
    "outputId": "15926a67-b8ff-4128-aa50-7630064c9981"
   },
   "outputs": [
    {
     "data": {
      "text/plain": [
       "torch.strided"
      ]
     },
     "execution_count": 17,
     "metadata": {},
     "output_type": "execute_result"
    }
   ],
   "source": [
    "x.dtype\n",
    "x.device\n",
    "x.shape\n",
    "x.ndim\n",
    "x.requires_grad\n",
    "x.grad\n",
    "x.grad_fn\n",
    "\n",
    "x.cuda\n",
    "x.is_sparse\n",
    "x.is_quantized\n",
    "x.is_leaf\n",
    "x.is_mkldnn\n",
    "\n",
    "x.layout"
   ]
  },
  {
   "cell_type": "code",
   "execution_count": 28,
   "metadata": {
    "colab": {
     "base_uri": "https://localhost:8080/"
    },
    "id": "-BarvmMW04-R",
    "outputId": "4246e931-b73b-41ce-d2cb-a635c4b382e0"
   },
   "outputs": [
    {
     "name": "stdout",
     "output_type": "stream",
     "text": [
      "tensor([1., 2., 3.], dtype=torch.float64)\n",
      "tensor([1, 2, 3], dtype=torch.int32)\n",
      "torch.float32\n",
      "torch.int32\n",
      "torch.float32\n"
     ]
    }
   ],
   "source": [
    "w = torch.tensor([1, 2, 3], dtype=torch.float64)\n",
    "\n",
    "w.int()\n",
    "print(w)\n",
    "w = w.int()\n",
    "print(w)\n",
    "\n",
    "w = w.to(torch.float32)\n",
    "print(w.dtype)\n",
    "w = w.to(dtype=torch.int32)\n",
    "print(w.dtype)\n",
    "\n",
    "x = torch.tensor([1, 2, 3], dtype=torch.int32)\n",
    "y = torch.tensor([1, 2, 3], dtype=torch.float32)\n",
    "z = x + y\n",
    "print(z.dtype)"
   ]
  },
  {
   "cell_type": "code",
   "execution_count": 45,
   "metadata": {
    "colab": {
     "base_uri": "https://localhost:8080/"
    },
    "id": "vvNJwhhP2zFf",
    "outputId": "dbf034c4-91ee-46bf-b5a7-7f79d7574c80"
   },
   "outputs": [
    {
     "data": {
      "text/plain": [
       "tensor([2, 3])"
      ]
     },
     "execution_count": 45,
     "metadata": {},
     "output_type": "execute_result"
    }
   ],
   "source": [
    "torch.rand(3, 2)\n",
    "torch.randn(3, 2)\n",
    "torch.normal(0, 1, (3, 2))\n",
    "torch.randint(1, 10, (3, 2))\n",
    "torch.randperm(10)\n",
    "torch.bernoulli(torch.tensor([0.1, 0.2, 0.8, 0.9]))\n",
    "torch.multinomial(torch.tensor([0.1, 0.2, 0.8, 0.9]), 2)"
   ]
  },
  {
   "cell_type": "code",
   "execution_count": 51,
   "metadata": {
    "colab": {
     "base_uri": "https://localhost:8080/"
    },
    "id": "yRz4Fz1f367j",
    "outputId": "5601a5a5-e77c-40ae-b4fc-21a427724272"
   },
   "outputs": [
    {
     "data": {
      "text/plain": [
       "tensor([[15.5731,  3.6439],\n",
       "        [ 0.3014,  5.3849],\n",
       "        [ 5.2020, 57.6354]])"
      ]
     },
     "execution_count": 51,
     "metadata": {},
     "output_type": "execute_result"
    }
   ],
   "source": [
    "x = torch.empty(3, 2).log_normal_()\n",
    "x"
   ]
  },
  {
   "cell_type": "code",
   "execution_count": 56,
   "metadata": {
    "colab": {
     "base_uri": "https://localhost:8080/"
    },
    "id": "unPRbsku4zRr",
    "outputId": "5def9122-b3ef-47ed-f514-3ae40c425b18"
   },
   "outputs": [
    {
     "data": {
      "text/plain": [
       "tensor([[3., 2.],\n",
       "        [2., 3.],\n",
       "        [7., 8.]])"
      ]
     },
     "execution_count": 56,
     "metadata": {},
     "output_type": "execute_result"
    }
   ],
   "source": [
    "torch.empty_like(x)\n",
    "torch.zeros_like(x)\n",
    "torch.ones_like(x)\n",
    "torch.full_like(x, 10)\n",
    "torch.rand_like(x)\n",
    "torch.randn_like(x)\n",
    "torch.randint_like(x, 1, 10)"
   ]
  },
  {
   "cell_type": "markdown",
   "metadata": {
    "id": "yq8ESqodAS-t"
   },
   "source": [
    "# Tensor Operations"
   ]
  },
  {
   "cell_type": "markdown",
   "metadata": {
    "id": "q5hPS2YXGNn8"
   },
   "source": [
    "## Indexing, Slicing, Combining, and Splitting Tensors"
   ]
  },
  {
   "cell_type": "code",
   "execution_count": 58,
   "metadata": {
    "colab": {
     "base_uri": "https://localhost:8080/"
    },
    "id": "r2EGA5YZ5QgD",
    "outputId": "324225c4-61f8-4c6b-cee5-f67a7438fd57"
   },
   "outputs": [
    {
     "name": "stdout",
     "output_type": "stream",
     "text": [
      "tensor([[1, 2],\n",
      "        [3, 4],\n",
      "        [5, 6],\n",
      "        [7, 8]])\n",
      "tensor(4)\n",
      "4\n"
     ]
    }
   ],
   "source": [
    "x = torch.tensor([[1, 2], [3, 4], [5, 6], [7, 8]])\n",
    "print(x)\n",
    "\n",
    "# Indexing\n",
    "print(x[1, 1])\n",
    "print(x[1, 1].item())"
   ]
  },
  {
   "cell_type": "code",
   "execution_count": 59,
   "metadata": {
    "colab": {
     "base_uri": "https://localhost:8080/"
    },
    "id": "2asd5FpcAeov",
    "outputId": "de791f24-fa4f-407b-8bdc-e10964934464"
   },
   "outputs": [
    {
     "name": "stdout",
     "output_type": "stream",
     "text": [
      "tensor([2, 4])\n",
      "tensor([1, 2, 3, 4])\n"
     ]
    }
   ],
   "source": [
    "# Slicing\n",
    "print(x[:2, 1])\n",
    "\n",
    "# Boolean Indexing\n",
    "print(x[x < 5])"
   ]
  },
  {
   "cell_type": "code",
   "execution_count": 100,
   "metadata": {
    "colab": {
     "base_uri": "https://localhost:8080/"
    },
    "id": "cZvrt-RDBQDp",
    "outputId": "817d928a-7bef-436c-cd85-9ec509d39e1b"
   },
   "outputs": [
    {
     "name": "stdout",
     "output_type": "stream",
     "text": [
      "tensor([[1, 3, 5, 7],\n",
      "        [2, 4, 6, 8]])\n",
      "tensor([[1, 3, 5, 7],\n",
      "        [2, 4, 6, 8]])\n",
      "tensor([[1, 3, 5, 7],\n",
      "        [2, 4, 6, 8]])\n",
      "tensor([[1, 2, 3, 4],\n",
      "        [5, 6, 7, 8]])\n"
     ]
    }
   ],
   "source": [
    "print(x.T)\n",
    "print(x.t())\n",
    "print(x.transpose(0, 1))\n",
    "\n",
    "# Change shape\n",
    "print(x.view((2, 4)))"
   ]
  },
  {
   "cell_type": "code",
   "execution_count": 65,
   "metadata": {
    "colab": {
     "base_uri": "https://localhost:8080/"
    },
    "id": "3eCgmuewBUe_",
    "outputId": "b74c0307-cb06-488f-d345-33f7cebb4e94"
   },
   "outputs": [
    {
     "name": "stdout",
     "output_type": "stream",
     "text": [
      "tensor([[[1, 2],\n",
      "         [3, 4],\n",
      "         [5, 6],\n",
      "         [7, 8]],\n",
      "\n",
      "        [[1, 2],\n",
      "         [3, 4],\n",
      "         [5, 6],\n",
      "         [7, 8]]])\n",
      "torch.Size([2, 4, 2])\n",
      "tensor([[1, 2],\n",
      "        [3, 4],\n",
      "        [5, 6],\n",
      "        [7, 8]])\n"
     ]
    }
   ],
   "source": [
    "# Combining Tensors\n",
    "y = torch.stack((x, x))\n",
    "print(y)\n",
    "print(y.shape)\n",
    "\n",
    "a, b = y.unbind(dim=0)\n",
    "print(a)"
   ]
  },
  {
   "cell_type": "code",
   "execution_count": 98,
   "metadata": {
    "colab": {
     "base_uri": "https://localhost:8080/"
    },
    "id": "MTlunCVwBsOj",
    "outputId": "a5b088fc-7d09-4792-c599-11da8cd56acc"
   },
   "outputs": [
    {
     "data": {
      "text/plain": [
       "tensor([[ 2,  4],\n",
       "        [ 6,  8],\n",
       "        [10,  6],\n",
       "        [ 7,  8]])"
      ]
     },
     "execution_count": 98,
     "metadata": {},
     "output_type": "execute_result"
    }
   ],
   "source": [
    "torch.cat((x, x), dim=0)\n",
    "torch.chunk(x, 4, dim=0)\n",
    "torch.gather(x, dim=0, index=torch.tensor([[1, 1], [1, 1], [2, 2], [3, 3]]))\n",
    "torch.index_select(x, dim=0, index=torch.tensor([1, 1, 2, 3]))\n",
    "torch.masked_select(x, torch.BoolTensor([[1, 1], [0, 1], [0, 1], [0, 1]]))\n",
    "torch.narrow(x, dim=0, start=0, length=2)\n",
    "torch.nonzero(x)\n",
    "torch.reshape(x, shape=(2, 4))\n",
    "torch.split(x, split_size_or_sections=2, dim=0)\n",
    "x = torch.unsqueeze(x, dim=0)\n",
    "x = torch.squeeze(x)\n",
    "torch.take(x, index=torch.tensor([0, 1, 2, 3]))\n",
    "torch.where(x > 5, x, x * 2)"
   ]
  },
  {
   "cell_type": "markdown",
   "metadata": {
    "id": "Y8072h0IGUqQ"
   },
   "source": [
    "## Tensor Operations for Mathematics"
   ]
  },
  {
   "cell_type": "code",
   "execution_count": null,
   "metadata": {
    "id": "zBYApNhfEdEm"
   },
   "outputs": [],
   "source": []
  }
 ],
 "metadata": {
  "accelerator": "GPU",
  "colab": {
   "gpuType": "T4",
   "provenance": []
  },
  "kernelspec": {
   "display_name": "Python 3",
   "name": "python3"
  },
  "language_info": {
   "name": "python"
  }
 },
 "nbformat": 4,
 "nbformat_minor": 0
}
