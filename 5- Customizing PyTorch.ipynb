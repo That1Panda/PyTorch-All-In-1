{
 "metadata": {
  "kernelspec": {
   "language": "python",
   "display_name": "Python 3",
   "name": "python3"
  },
  "language_info": {
   "name": "python",
   "version": "3.10.14",
   "mimetype": "text/x-python",
   "codemirror_mode": {
    "name": "ipython",
    "version": 3
   },
   "pygments_lexer": "ipython3",
   "nbconvert_exporter": "python",
   "file_extension": ".py"
  },
  "kaggle": {
   "accelerator": "none",
   "dataSources": [],
   "dockerImageVersionId": 30786,
   "isInternetEnabled": true,
   "language": "python",
   "sourceType": "notebook",
   "isGpuEnabled": false
  }
 },
 "nbformat_minor": 4,
 "nbformat": 4,
 "cells": [
  {
   "cell_type": "markdown",
   "source": "# Custom Layers and Activations",
   "metadata": {}
  },
  {
   "cell_type": "code",
   "source": [
    "import torch\n",
    "import torch.nn as nn\n",
    "from torch import Tensor\n",
    "from torch.nn import Parameter\n",
    "import torch.nn.init as init\n",
    "import torch.nn.functional as F\n",
    "from torch.hub import load_state_dict_from_url\n",
    "\n",
    "import math\n",
    "from collections import defaultdict"
   ],
   "metadata": {
    "trusted": true
   },
   "execution_count": null,
   "outputs": []
  },
  {
   "cell_type": "code",
   "source": [
    "def linear(input, weight, bias=None):\n",
    "    if input.dim() == 2 and bias is not None:\n",
    "        ret = torcj.addmm(bias, input, weight.t())\n",
    "    else:\n",
    "        output = input.matmul(weight.t())\n",
    "        if bias is not None:\n",
    "            output += bias\n",
    "        ret = output\n",
    "    return ret\n",
    "\n",
    "\n",
    "class Linear(nn.Module):\n",
    "    def __init__(self, in_features, out_features, bias):\n",
    "        super().__init__()\n",
    "        self.in_features = in_features\n",
    "        self.out_features = out_features\n",
    "        self.weight = Parameter(torch.Tensor(out_features, in_features))\n",
    "\n",
    "        if bias:\n",
    "            self.bias = Parameter(torch.Tensor(out_features))\n",
    "        else:\n",
    "            self.register_parameter(\"bias\", None)\n",
    "        self.reset_parameters()\n",
    "\n",
    "    def reset_parameters(self):\n",
    "        init.kaiming_uniform_(self.weight, a=math.sqrt(5))\n",
    "        if self.bias is not None:\n",
    "            fan_in, _ = init._calculate_fan_in_and_fan_out(self.weight)\n",
    "            bound = 1 / math.sqrt(fan_in)\n",
    "            init.uniform_(self.bias, -bound, bound)\n",
    "\n",
    "    def forward(self, input):\n",
    "        return linear(input, self.weight, self.bias)"
   ],
   "metadata": {
    "_uuid": "8f2839f25d086af736a60e9eeb907d3b93b6e0e5",
    "_cell_guid": "b1076dfc-b9ad-4769-8c92-a6c4dae69d19",
    "trusted": true
   },
   "execution_count": null,
   "outputs": []
  },
  {
   "cell_type": "code",
   "source": [
    "def complex_linear(inr, in_i, w_r, w_i, b_i, b_r):\n",
    "    out_r = in_r.matmul(w_r.t()) - in_i.matmul(w_i.t()) + b_r\n",
    "    out_i = in_r.matmul(w_i.t()) - in_i.matmul(w_r.t()) + b_i\n",
    "\n",
    "    return out_r, out_i\n",
    "\n",
    "\n",
    "class ComplexLinear(nn.Module):\n",
    "    def __init__(self, in_features, out_features):\n",
    "        self.in_features = in_features\n",
    "        self.out_features = out_features\n",
    "        self.weight_i = Parameter(torch.randn(out_features, in_features))\n",
    "        self.weight_r = Parameter(torch.randn(out_features, in_features))\n",
    "        self.bias_i = Parameter(torch.randn(out_features))\n",
    "        self.bias_r = Parameter(torch.randn(out_features))\n",
    "\n",
    "    def forward(self, in_r, in_i):\n",
    "        return complex_linear(\n",
    "            in_i, in_r, self.weight_r, self.weight_i, self.bias_i, self.bias_r\n",
    "        )"
   ],
   "metadata": {},
   "execution_count": null,
   "outputs": []
  },
  {
   "cell_type": "code",
   "source": [
    "def my_relu(input, thresh=0.0):\n",
    "    return torch.where(input > thresh, input, torch.zeros_like(input))\n",
    "\n",
    "\n",
    "class MyReLU(nn.Module):\n",
    "    def __init__(self, thresh=0.0):\n",
    "        super().__init__()\n",
    "        self.thresh = thresh\n",
    "\n",
    "    def forward(self, input):\n",
    "        return my_relu(input)"
   ],
   "metadata": {
    "trusted": true
   },
   "execution_count": null,
   "outputs": []
  },
  {
   "cell_type": "code",
   "source": [
    "class SimpleNet(nn.Module):\n",
    "    def __init__(self, D_in, H, D_out):\n",
    "        super().__init__()\n",
    "        self.fc1 = nn.Linear(D_in, H)\n",
    "        self.fc2 = nn.Linear(H, D_out)\n",
    "\n",
    "    def forward(self, x):\n",
    "        x = F.relu(self.fc1(x))\n",
    "        return self.fc2(x)\n",
    "\n",
    "\n",
    "class SimpleNet(nn.Module):\n",
    "    def __init__(self, D_in, H, D_out):\n",
    "        super().__init__()\n",
    "        self.net = nn.Sequential(nn.Linear(D_in, H), nn.ReLU(), nn.Linear(H, D_out))\n",
    "\n",
    "    def forward(self, x):\n",
    "        return self.net(x)"
   ],
   "metadata": {
    "trusted": true
   },
   "execution_count": null,
   "outputs": []
  },
  {
   "cell_type": "code",
   "source": [
    "def complex_relu(in_r, in_i):\n",
    "    return F.relu(in_r), F.relu(in_i)\n",
    "\n",
    "\n",
    "class ComplexReLU(nn.Module):\n",
    "    def __init__(self):\n",
    "        super().__init__()\n",
    "\n",
    "    def forward(self, in_r, in_i):\n",
    "        return complex_relu(in_r, in_i)"
   ],
   "metadata": {},
   "execution_count": null,
   "outputs": []
  },
  {
   "cell_type": "markdown",
   "source": "# Custom Model Architectures",
   "metadata": {}
  },
  {
   "cell_type": "code",
   "source": [
    "class AlexNet(nn.Module):\n",
    "    def __init__(self, num_classes=1000):\n",
    "        super().__init__()\n",
    "        self.features = nn.Sequential(\n",
    "            nn.Conv2d(3, 64, kernel_size=11, stride=4, padding=2),\n",
    "            nn.ReLU(inplace=True),\n",
    "            nn.MaxPool2d(kernel_size=3, stride=2),\n",
    "            nn.Conv2d(64, 192, kernel_size=5, padding=1),\n",
    "            nn.ReLU(inplace=True),\n",
    "            nn.MaxPool2d(kernel_size=3, stride=2),\n",
    "            nn.Conv2d(192, 384, kernel_size=3, padding=1),\n",
    "            nn.ReLU(inplace=True),\n",
    "            nn.Conv2d(384, 256, kernel_size=3, padding=1),\n",
    "            nn.ReLU(inplace=True),\n",
    "            nn.Conv2d(256, 256, kernel_size=3, padding=1),\n",
    "            nn.ReLU(inplace=True),\n",
    "            nn.MaxPool2d(kernel_size=3, stride=2),\n",
    "        )\n",
    "\n",
    "        self.avgpool = nn.AdaptiveAvgPool2d((6, 6))\n",
    "        self.classifier = nn.Sequential(\n",
    "            nn.Dropout(),\n",
    "            nn.Linear(256 * 6 * 6, 4096),\n",
    "            nn.ReLU(inplace=True),\n",
    "            nn.Dropout(),\n",
    "            nn.Linear(4096, 4096),\n",
    "            nn.ReLU(inplace=True),\n",
    "            nn.Linear(4096, num_classes),\n",
    "        )\n",
    "\n",
    "    def forward(x):\n",
    "        x = self.features(x)\n",
    "        x = self.avgpool(x)\n",
    "        x = self.classifier(x)\n",
    "        return x"
   ],
   "metadata": {
    "trusted": true
   },
   "execution_count": null,
   "outputs": []
  },
  {
   "cell_type": "code",
   "source": [
    "model_urls = {\"alexnet\": \"https://pytorch.tips/alexnet-download\"}\n",
    "\n",
    "\n",
    "def alexnet(pretrained=False, progress=True, **kwargs):\n",
    "    model = AlexNet(**kwargs)\n",
    "    if pretrained:\n",
    "        state_dict = load_state_dict_from_url(model_urls[\"alexnet\"], progress=progress)\n",
    "        model.load_state_dict(state_dict)\n",
    "    return model"
   ],
   "metadata": {
    "trusted": true
   },
   "execution_count": null,
   "outputs": []
  },
  {
   "cell_type": "markdown",
   "source": "# Custom Loss Functions",
   "metadata": {}
  },
  {
   "cell_type": "code",
   "source": [
    "def mse_loss(input, target):\n",
    "    return ((inputs - target) ** 2).mean()\n",
    "\n",
    "\n",
    "class MSELoss(nn.Module):\n",
    "    def __init__(self):\n",
    "        super().__init__()\n",
    "\n",
    "    def forward(self, input, target):\n",
    "        return F.mse_loss(input, target)"
   ],
   "metadata": {
    "trusted": true
   },
   "execution_count": null,
   "outputs": []
  },
  {
   "cell_type": "code",
   "source": [
    "def complex_mse_loss(input_r, input_i, target_r, target_i):\n",
    "    return ((input_r - target_r) * 2).mean(), ((input_i - target_i) ** 2).mean()\n",
    "\n",
    "\n",
    "class ComplexMSELoss(nn.Module):\n",
    "    def __init__(self, real_only=False):\n",
    "        self.real_only = real_only\n",
    "\n",
    "    def forward(self, input_r, input_i, target_r, target_i):\n",
    "        if self.real_only:\n",
    "            return F.mse_loss(input_r, target_r)\n",
    "        else:\n",
    "            return complex_mse_loss(input_r, input_i, target_r, target_i)"
   ],
   "metadata": {},
   "execution_count": null,
   "outputs": []
  },
  {
   "cell_type": "markdown",
   "source": "# Custom Optimizer Algorithms",
   "metadata": {}
  },
  {
   "cell_type": "code",
   "source": [
    "class Optimizer(object):\n",
    "    def __init__(self, params, defaults):\n",
    "        self.defaults = defaults\n",
    "        self.state = default_dict(dict)\n",
    "        self.param_groups = []\n",
    "        param_groups = list(params)\n",
    "        if len(param_groups) == 0:\n",
    "            raise ValueError(\"Empty param list\")\n",
    "        if not isinstance(param_groups[0], dict):\n",
    "            param_groups = [{\"params\": param_groups}]\n",
    "        for param_group in param_groups:\n",
    "            self.add_param_group(param_group)\n",
    "\n",
    "    def __getstate__(self):\n",
    "        return {\n",
    "            \"defaults\": self.defaults,\n",
    "            \"state\": self.state,\n",
    "            \"param_groups\": self.param_groups,\n",
    "        }\n",
    "\n",
    "    def __setstate__(self, state):\n",
    "        self.__dict__.update(state)\n",
    "\n",
    "    def zero_grad(self):\n",
    "        for group in self.param_groups:\n",
    "            for p in group[\"params\"]:\n",
    "                if p.grad is not None:\n",
    "                    p.grad.detach_()\n",
    "                    p.grad.zero_()"
   ],
   "metadata": {
    "trusted": true
   },
   "execution_count": null,
   "outputs": []
  },
  {
   "cell_type": "code",
   "source": [
    "from torch.optim import Optimizer\n",
    "\n",
    "\n",
    "class SimpleSGD(Optimizer):\n",
    "    def __init__(self, params, lr=\"required\"):\n",
    "        if lr != \"required\" and lr < 0.0:\n",
    "            raise ValueError(\"Invalid LR\")\n",
    "\n",
    "        defaults = dict(lr=lr)\n",
    "        super().__init__(params, defaults)\n",
    "\n",
    "    def step(self):\n",
    "        for group in self.param_groups:\n",
    "            for p in group[\"params\"]:\n",
    "                if p.grad is None:\n",
    "                    continue\n",
    "                d_p = p.grad\n",
    "                p.add_(d_p, alpha=-group[\"lr\"])\n",
    "        return"
   ],
   "metadata": {
    "trusted": true
   },
   "execution_count": null,
   "outputs": []
  },
  {
   "cell_type": "code",
   "source": [
    "optimizer = SimpleSGD(\n",
    "    [\n",
    "        {\"params\": model.features.parameters()},\n",
    "        {\"params\": model.classifier.parameters(), \"lr\": 1e-3},\n",
    "    ],\n",
    "    lr=1e-2,\n",
    ")"
   ],
   "metadata": {},
   "execution_count": null,
   "outputs": []
  },
  {
   "cell_type": "markdown",
   "source": "# Custom Training, Validation, and Test Loops",
   "metadata": {}
  },
  {
   "cell_type": "code",
   "source": [
    "for epoch in range(EPOCHS):\n",
    "    total_train_loss = 0.0\n",
    "    total_val_loss = 0.0\n",
    "\n",
    "    if epoch == epoch // 2:\n",
    "        optimizer = optim.SGD(model.parameters(), lr=0.001)\n",
    "\n",
    "    # Training\n",
    "    model.train()\n",
    "    for data in train_dataloader:\n",
    "        input, label = data\n",
    "        input = input.to(device)\n",
    "        label = label.to(device)\n",
    "\n",
    "        optimizer.zero_grad()\n",
    "        output = model(input)\n",
    "        loss = criterion(output, label)\n",
    "        loss.backward()\n",
    "        optimizer.step()\n",
    "        total_train_loss += loss\n",
    "\n",
    "    # Validatiion\n",
    "    model.eval()\n",
    "    with torch.no_grad():\n",
    "        for data in val_dataloader:\n",
    "            input, label = data\n",
    "            input = input.to(device)\n",
    "            label = label.to(device)\n",
    "\n",
    "            output = model(output)\n",
    "            loss = criterion(output, label)\n",
    "            total_val_loss += loss\n",
    "\n",
    "    print(\n",
    "        \"\"\"Epoch: {} \n",
    "          Train Loss: {} \n",
    "          Val Loss {}\"\"\".format(\n",
    "            epoch, total_train_loss, total_val_loss\n",
    "        )\n",
    "    )\n",
    "\n",
    "# Testing\n",
    "model.eval()\n",
    "with torch.no_grad():\n",
    "    test_loss = 0.0\n",
    "    for input, label in test_dataloader:\n",
    "        input = input.to(device)\n",
    "        label = label.to(device)\n",
    "\n",
    "        output = model(input)\n",
    "        test_loss += criterion(output, label)"
   ],
   "metadata": {},
   "execution_count": null,
   "outputs": []
  }
 ]
}